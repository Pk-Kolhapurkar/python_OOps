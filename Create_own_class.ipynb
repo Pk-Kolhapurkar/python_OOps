{
  "nbformat": 4,
  "nbformat_minor": 0,
  "metadata": {
    "colab": {
      "provenance": []
    },
    "kernelspec": {
      "name": "python3",
      "display_name": "Python 3"
    },
    "language_info": {
      "name": "python"
    }
  },
  "cells": [
    {
      "cell_type": "code",
      "execution_count": 21,
      "metadata": {
        "colab": {
          "base_uri": "https://localhost:8080/"
        },
        "id": "V9hY1z1xKgDV",
        "outputId": "24f3ac10-6293-4f14-ed30-61b0daee2e2f"
      },
      "outputs": [
        {
          "output_type": "stream",
          "name": "stdout",
          "text": [
            "5/4\n",
            "1/4\n",
            "3/8\n",
            "3/2\n"
          ]
        }
      ],
      "source": [
        "import math\n",
        "\n",
        "class Fraction:\n",
        "    # This is a parameterized constructor (requires input)\n",
        "    def __init__(self, x, y):\n",
        "        if y == 0:\n",
        "            raise ValueError(\"Denominator cannot be zero.\")\n",
        "        self.num = x\n",
        "        self.den = y\n",
        "\n",
        "    # __str__ is useful when we put an object in print()\n",
        "    def __str__(self):  # Define how to show the object\n",
        "        return f'{self.num}/{self.den}'\n",
        "\n",
        "    # __add__ is useful when we use the + operator with our class objects\n",
        "    def __add__(self, other):  # fr1=self, fr2=other\n",
        "        new_num = self.num * other.den + other.num * self.den\n",
        "        new_den = self.den * other.den\n",
        "        return Fraction(new_num, new_den).simplify()\n",
        "\n",
        "    def __sub__(self, other):  # fr1=self, fr2=other\n",
        "        new_num = self.num * other.den - other.num * self.den\n",
        "        new_den = self.den * other.den\n",
        "        return Fraction(new_num, new_den).simplify()\n",
        "\n",
        "    def __mul__(self, other):  # fr1=self, fr2=other\n",
        "        new_num = self.num * other.num\n",
        "        new_den = self.den * other.den\n",
        "        return Fraction(new_num, new_den).simplify()\n",
        "\n",
        "    def __truediv__(self, other):  # fr1=self, fr2=other\n",
        "        if other.num == 0:\n",
        "            raise ZeroDivisionError(\"Cannot divide by a fraction with zero numerator.\")\n",
        "        new_num = self.num * other.den\n",
        "        new_den = self.den * other.num\n",
        "        return Fraction(new_num, new_den).simplify()\n",
        "\n",
        "    def simplify(self):\n",
        "        gcd = math.gcd(self.num, self.den)  # Greatest common divisor\n",
        "        simplified_num = self.num // gcd\n",
        "        simplified_den = self.den // gcd\n",
        "        return Fraction(simplified_num, simplified_den)\n",
        "\n",
        "# Example usage:\n",
        "fr1 = Fraction(3, 4)\n",
        "fr2 = Fraction(1, 2)\n",
        "\n",
        "print(fr1 + fr2)  # Output: 5/4 or simplified\n",
        "print(fr1 - fr2)  # Output: 1/4 or simplified\n",
        "print(fr1 * fr2)  # Output: 3/8 or simplified\n",
        "print(fr1 / fr2)  # Output: 3/2 or simplified\n"
      ]
    },
    {
      "cell_type": "code",
      "source": [],
      "metadata": {
        "id": "fctCaqY1SeoT"
      },
      "execution_count": null,
      "outputs": []
    }
  ]
}